{
 "cells": [
  {
   "cell_type": "code",
   "execution_count": 1,
   "metadata": {},
   "outputs": [
    {
     "data": {
      "text/plain": [
       "6857"
      ]
     },
     "execution_count": 1,
     "metadata": {},
     "output_type": "execute_result"
    }
   ],
   "source": [
    "'''\n",
    "The prime factors of 13195 are 5, 7, 13 and 29.\n",
    "\n",
    "What is the largest prime factor of the given number?\n",
    "\n",
    "'''\n",
    "\n",
    "def isPrime(n):\n",
    "    if n == 2:\n",
    "        return True\n",
    "    if n == 1:\n",
    "        return False\n",
    "    for p in range (2,n//2 + 1):\n",
    "        if n%p == 0:\n",
    "            return False\n",
    "    return True\n",
    "\n",
    "def largestPrimeFactor(n):\n",
    "    primeFactor = 2\n",
    "    if isPrime(n):\n",
    "        return n\n",
    "    Factors = []\n",
    "    while n > 1:\n",
    "        if isPrime(primeFactor) == True and n%primeFactor==0:\n",
    "            n /= primeFactor\n",
    "            Factors.append(primeFactor)\n",
    "        primeFactor += 1\n",
    "    return Factors[-1]\n",
    "            \n",
    "\n",
    "largestPrimeFactor(600851475143)"
   ]
  },
  {
   "cell_type": "code",
   "execution_count": null,
   "metadata": {},
   "outputs": [],
   "source": []
  }
 ],
 "metadata": {
  "kernelspec": {
   "display_name": "Python 3",
   "language": "python",
   "name": "python3"
  },
  "language_info": {
   "codemirror_mode": {
    "name": "ipython",
    "version": 3
   },
   "file_extension": ".py",
   "mimetype": "text/x-python",
   "name": "python",
   "nbconvert_exporter": "python",
   "pygments_lexer": "ipython3",
   "version": "3.7.1"
  }
 },
 "nbformat": 4,
 "nbformat_minor": 2
}
