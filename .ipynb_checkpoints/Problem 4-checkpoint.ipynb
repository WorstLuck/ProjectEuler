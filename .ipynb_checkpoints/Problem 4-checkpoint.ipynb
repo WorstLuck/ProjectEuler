{
 "cells": [
  {
   "cell_type": "code",
   "execution_count": 36,
   "metadata": {},
   "outputs": [
    {
     "data": {
      "text/plain": [
       "906609"
      ]
     },
     "execution_count": 36,
     "metadata": {},
     "output_type": "execute_result"
    }
   ],
   "source": [
    "'''\n",
    "Project Euler: Problem 4: Largest palindrome product\n",
    "A palindromic number reads the same both ways. The largest palindrome made from the product of two 2-digit numbers is 9009 = 91 × 99.\n",
    "\n",
    "Find the largest palindrome made from the product of two n-digit numbers.\n",
    "'''\n",
    "\n",
    "\n",
    "def isPalindrome(number):\n",
    "    number = str(number)\n",
    "    if number[::-1] == number:\n",
    "        return True\n",
    "    else:\n",
    "        return False\n",
    "\n",
    "def largestPalindromeProduct(n):\n",
    "    maxDig = 10**n - 1\n",
    "    numDig = maxDig\n",
    "    product = maxDig*numDig\n",
    "    palindromes = []\n",
    "\n",
    "    for i in range (10**(n-1),maxDig+1):\n",
    "        for j in range (10**(n-1),numDig+1):\n",
    "            if isPalindrome(i*j):\n",
    "                palindromes.append(i*j)\n",
    "    return max(palindromes)\n",
    "\n",
    "largestPalindromeProduct(3)"
   ]
  },
  {
   "cell_type": "code",
   "execution_count": null,
   "metadata": {},
   "outputs": [],
   "source": []
  },
  {
   "cell_type": "code",
   "execution_count": null,
   "metadata": {},
   "outputs": [],
   "source": []
  }
 ],
 "metadata": {
  "kernelspec": {
   "display_name": "Python 3",
   "language": "python",
   "name": "python3"
  },
  "language_info": {
   "codemirror_mode": {
    "name": "ipython",
    "version": 3
   },
   "file_extension": ".py",
   "mimetype": "text/x-python",
   "name": "python",
   "nbconvert_exporter": "python",
   "pygments_lexer": "ipython3",
   "version": "3.7.1"
  }
 },
 "nbformat": 4,
 "nbformat_minor": 2
}
