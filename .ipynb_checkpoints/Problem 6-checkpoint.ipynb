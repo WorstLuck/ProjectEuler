{
 "cells": [
  {
   "cell_type": "code",
   "execution_count": 4,
   "metadata": {},
   "outputs": [
    {
     "data": {
      "text/plain": [
       "41230"
      ]
     },
     "execution_count": 4,
     "metadata": {},
     "output_type": "execute_result"
    }
   ],
   "source": [
    "'''\n",
    "Project Euler: Problem 6: Sum square difference\n",
    "The sum of the squares of the first ten natural numbers is,\n",
    "\n",
    "12 + 22 + ... + 102 = 385\n",
    "The square of the sum of the first ten natural numbers is,\n",
    "\n",
    "(1 + 2 + ... + 10)2 = 552 = 3025\n",
    "Hence the difference between the sum of the squares of the first ten natural numbers and the square of the sum is 3025 − 385 = 2640.\n",
    "\n",
    "Find the difference between the sum of the squares of the first n natural numbers and the square of the sum.\n",
    "'''\n",
    "\n",
    "def sumSquares(n):\n",
    "    sumSquares = 0\n",
    "    for i in range (1,n+1):\n",
    "        sumSquares+=i**2\n",
    "    return sumSquares\n",
    "\n",
    "def squareSums(n):\n",
    "    squareSums = 0\n",
    "    for i in range (1,n+1):\n",
    "        squareSums+=i\n",
    "    return squareSums**2\n",
    "\n",
    "def sumSquareDifference(n):\n",
    "    return squareSums(n)-sumSquares(n) \n",
    "\n",
    "sumSquareDifference(100)"
   ]
  },
  {
   "cell_type": "code",
   "execution_count": null,
   "metadata": {},
   "outputs": [],
   "source": []
  }
 ],
 "metadata": {
  "kernelspec": {
   "display_name": "Python 3",
   "language": "python",
   "name": "python3"
  },
  "language_info": {
   "codemirror_mode": {
    "name": "ipython",
    "version": 3
   },
   "file_extension": ".py",
   "mimetype": "text/x-python",
   "name": "python",
   "nbconvert_exporter": "python",
   "pygments_lexer": "ipython3",
   "version": "3.7.1"
  }
 },
 "nbformat": 4,
 "nbformat_minor": 2
}
